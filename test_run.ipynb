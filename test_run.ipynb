{
 "cells": [
  {
   "cell_type": "code",
   "outputs": [],
   "source": [
    "from multiProcessing.multiProcessing import MultiProcessing\n",
    "import time\n",
    "\n",
    "mp_obj = MultiProcessing()\n",
    "\n",
    "def example_function(arg):\n",
    "    print(f\"Processing {arg}\")\n",
    "    time.sleep(1)\n",
    "    return f\"Processed {arg}\"\n",
    "\n",
    "mp_obj.run_multiprocess(func=example_function, args=['Hello, World!', ''])"
   ],
   "metadata": {
    "collapsed": false,
    "ExecuteTime": {
     "end_time": "2024-02-24T10:28:53.468959Z",
     "start_time": "2024-02-24T10:28:53.464244Z"
    }
   },
   "id": "3aad1f69393f02b7",
   "execution_count": 13
  }
 ],
 "metadata": {
  "kernelspec": {
   "display_name": "Python 3",
   "language": "python",
   "name": "python3"
  },
  "language_info": {
   "codemirror_mode": {
    "name": "ipython",
    "version": 2
   },
   "file_extension": ".py",
   "mimetype": "text/x-python",
   "name": "python",
   "nbconvert_exporter": "python",
   "pygments_lexer": "ipython2",
   "version": "2.7.6"
  }
 },
 "nbformat": 4,
 "nbformat_minor": 5
}
